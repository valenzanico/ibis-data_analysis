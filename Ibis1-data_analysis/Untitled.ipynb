{
 "cells": [
  {
   "cell_type": "code",
   "execution_count": null,
   "id": "51fc6cda",
   "metadata": {},
   "outputs": [],
   "source": [
    "%matplotlib widget\n",
    "import os\n",
    "from pandas import read_csv\n",
    "import matplotlib.pyplot as plt\n",
    "\n",
    "dire = \"/media/eagle/0C69-902B/\"\n",
    "file_data = \"DATA4.CSV\"\n",
    "os.chdir(dire)\n",
    "df = read_csv(file_data)\n",
    "df.plot(subplots=True)\n",
    "\n",
    "for column in df.columns.tolist():\n",
    "    y_data = df[column].tolist()\n",
    "    x_num = list(range(len(df[column])))\n",
    "    figure, datas_axys = plt.subplots()\n",
    "    datas_graph = datas_axys.plot(x_num, y_data)[0]\n",
    "    figure.canvas.header_visible = False\n",
    "    datas_axys.set_title(column)"
   ]
  }
 ],
 "metadata": {
  "kernelspec": {
   "display_name": "Python 3 (ipykernel)",
   "language": "python",
   "name": "python3"
  },
  "language_info": {
   "codemirror_mode": {
    "name": "ipython",
    "version": 3
   },
   "file_extension": ".py",
   "mimetype": "text/x-python",
   "name": "python",
   "nbconvert_exporter": "python",
   "pygments_lexer": "ipython3",
   "version": "3.8.10"
  }
 },
 "nbformat": 4,
 "nbformat_minor": 5
}
